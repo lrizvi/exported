{
 "cells": [
  {
   "cell_type": "code",
   "execution_count": 1,
   "id": "805e4311-0877-4220-a54a-5ded8a180a2a",
   "metadata": {},
   "outputs": [],
   "source": [
    "import numpy as np\n",
    "import pint\n",
    "import pint_pandas\n",
    "\n",
    "ureg = pint.UnitRegistry()\n",
    "\n",
    "def beam_length(pressure, thickness, gap, modulus):\n",
    "    return (32 * modulus * gap * thickness**3 / pressure)**(1/4)\n",
    "\n",
    "def beam_pressure(length, thickness, gap, modulus):\n",
    "    return 32 * modulus * gap * thickness**3 / (length)**4"
   ]
  },
  {
   "cell_type": "code",
   "execution_count": 2,
   "id": "db781899-d69e-43b4-8dd3-f54370ee6a1a",
   "metadata": {},
   "outputs": [
    {
     "name": "stdout",
     "output_type": "stream",
     "text": [
      "5875.199999999997 kilopascal\n"
     ]
    }
   ],
   "source": [
    "print(beam_pressure(\n",
    "    length    = 3   * ureg.mm,\n",
    "    thickness = 90  * ureg.um,\n",
    "    gap       = 102 * ureg.um,\n",
    "    modulus   = 200 * ureg.GPa,\n",
    ").to(ureg.kPa))"
   ]
  },
  {
   "cell_type": "code",
   "execution_count": 4,
   "id": "ab2655e7-9b47-4bd7-8637-b2e20e7366ab",
   "metadata": {},
   "outputs": [
    {
     "name": "stdout",
     "output_type": "stream",
     "text": [
      "For gap=5 micrometer: lmin=0.6949753111729614 millimeter, lmax=2.197704900890824 millimeter\n",
      "For gap=25 micrometer: lmin=1.0392304845413265 millimeter, lmax=3.286335345030997 millimeter\n",
      "For gap=102 micrometer: lmin=1.4769878356595254 millimeter, lmax=4.6706456370465625 millimeter\n",
      "For gap=204 micrometer: lmin=1.756444442938777 millimeter, lmax=5.554365023232188 millimeter\n"
     ]
    }
   ],
   "source": [
    "n         = 2**5 - 1       # num. beams\n",
    "pmin      = 1 * ureg.kPa   # max sensed pressure\n",
    "pmax      = 100 * ureg.kPa # min sensed pressure\n",
    "modulus   = 200 * ureg.MPa # flexural modulus\n",
    "thickness = 90 * ureg.um  # beam thickness\n",
    "gaps      = (\n",
    "    5 * ureg.um,   # 3M 82600 PET\n",
    "    25 * ureg.um,  # McMaster 7615A619 silicone\n",
    "    102 * ureg.um, # Bertech PPTDE-2A PI\n",
    "    204 * ureg.um, # 2x Bertech PPTDE-2A PI\n",
    ")\n",
    "\n",
    "for gap in gaps:\n",
    "    lmax = beam_length(pmin, thickness, gap, modulus).to(ureg.mm)\n",
    "    lmin = beam_length(pmax, thickness, gap, modulus).to(ureg.mm)\n",
    "    print(f'For gap={gap}: lmin={lmin}, lmax={lmax}')"
   ]
  },
  {
   "cell_type": "code",
   "execution_count": null,
   "id": "37728a11-72b4-4c9d-b4a6-4c584b01c8ce",
   "metadata": {},
   "outputs": [],
   "source": []
  }
 ],
 "metadata": {
  "kernelspec": {
   "display_name": "Poetry",
   "language": "python",
   "name": "poetry-kernel"
  },
  "language_info": {
   "codemirror_mode": {
    "name": "ipython",
    "version": 3
   },
   "file_extension": ".py",
   "mimetype": "text/x-python",
   "name": "python",
   "nbconvert_exporter": "python",
   "pygments_lexer": "ipython3",
   "version": "3.10.12"
  }
 },
 "nbformat": 4,
 "nbformat_minor": 5
}
