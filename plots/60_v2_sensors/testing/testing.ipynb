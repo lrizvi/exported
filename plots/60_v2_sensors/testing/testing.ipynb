{
 "cells": [
  {
   "cell_type": "code",
   "execution_count": 1,
   "id": "72190a54-33a0-48c7-88df-c6bb9e945d41",
   "metadata": {},
   "outputs": [
    {
     "data": {
      "application/vnd.jupyter.widget-view+json": {
       "model_id": "1bb9541d3ee04e52b1c4023c88dfb542",
       "version_major": 2,
       "version_minor": 0
      },
      "text/plain": [
       "Button(button_style='warning', description='Save and close', icon='clipboard', style=ButtonStyle())"
      ]
     },
     "metadata": {},
     "output_type": "display_data"
    },
    {
     "name": "stdout",
     "output_type": "stream",
     "text": [
      "DAQ state: State.INIT\n",
      "DAQ state: State.WAIT\n",
      "DAQ state: State.RECV\n",
      "DAQ state: State.SAVE\n",
      "DAQ state: State.INIT\n",
      "DAQ state: State.WAIT\n"
     ]
    }
   ],
   "source": [
    "# Set experiment settings\n",
    "\n",
    "addr  = 'USB0::0x05E6::0x2100::8003733::INSTR'\n",
    "file  = '%s.dmm.csv'\n",
    "count = 0\n",
    "\n",
    "import threading, time, pyvisa, pandas as pd, pint_pandas\n",
    "from enum import Enum\n",
    "from ipywidgets import Button\n",
    "\n",
    "# Create button to save data and close the data acquisition system.\n",
    "flag = True\n",
    "def btn_cb(b):\n",
    "    global flag\n",
    "    flag = False\n",
    "btn = Button(\n",
    "    description  = 'Save and close',\n",
    "    button_style = 'warning',\n",
    "    icon         = 'clipboard',\n",
    ")\n",
    "btn.on_click(btn_cb)\n",
    "display(btn)\n",
    "\n",
    "# Define data recording thread states\n",
    "class State(Enum):\n",
    "    NULL = 00\n",
    "    INIT = 10\n",
    "    WAIT = 20\n",
    "    RECV = 30\n",
    "    SAVE = 40\n",
    "\n",
    "def read(inst):\n",
    "    if buf := inst.query_ascii_values('READ?'):\n",
    "        t = time.perf_counter_ns()\n",
    "        return buf[-1], t\n",
    "\n",
    "# Data recording thread\n",
    "def record():\n",
    "    global flag                                # DAQ reset flag\n",
    "    global count                               # Sequential data set number\n",
    "    data  = []                                 # Data read on State.RECV transition and during state\n",
    "    state = State.INIT                         # Current measurement state\n",
    "    old   = State.NULL                         # Prior different state\n",
    "    \n",
    "    # Connect to instrument\n",
    "    mgmt = pyvisa.ResourceManager()            # VISA manager object\n",
    "    inst = mgmt.open_resource(addr) # VISA Instrument object\n",
    "\n",
    "    while True:\n",
    "        # Monitor state transitions\n",
    "        if state != old:\n",
    "            print(f'DAQ state: {state}', flush=True)\n",
    "        old = state\n",
    "        \n",
    "        match state:\n",
    "            # Configure instrument\n",
    "            case State.INIT:\n",
    "                data  = []\n",
    "                \n",
    "                inst.query(\n",
    "                    '*CLS;'\n",
    "                    '*RST;'\n",
    "                    'CONF:FRES 10000,MAX;:' # Set 4-wire resistance, 100k ohm range, max 6.5 digit resolution\n",
    "                    'DISP ON;'\n",
    "                    '*OPC?'\n",
    "                )\n",
    "                inst.query('TRIG:SOUR EXT;*OPC?') # Trigger on EXT_TRIG\n",
    "                state = State.WAIT\n",
    "\n",
    "            # Triggers recording when blocking read() completes\n",
    "            case State.WAIT:\n",
    "                if val := read(inst):\n",
    "                    data.append(val)\n",
    "                    inst.query('TRIG:SOUR BUS;*OPC?')\n",
    "                    state = State.RECV\n",
    "\n",
    "            # Records until reset\n",
    "            case State.RECV:\n",
    "                if flag:\n",
    "                    if val := read(inst):\n",
    "                        data.append(val)\n",
    "                else:\n",
    "                    state = State.SAVE\n",
    "\n",
    "            # Save data and reinitialize\n",
    "            case State.SAVE:\n",
    "                pd.DataFrame({\n",
    "                    'Time'       : pd.Series([(val[1] - data[0][1]) / 1e9 for val in data], dtype='pint[second]'),\n",
    "                    'Resistance' : pd.Series([val[0] for val in data], dtype='pint[ohm]'),\n",
    "                }).pint.dequantify().to_csv(file % count)\n",
    "                \n",
    "                count = count + 1\n",
    "                state = State.INIT\n",
    "                \n",
    "            # Close thread if State.NULL\n",
    "            case _:\n",
    "                break\n",
    "\n",
    "    print('DAQ closed.', flush=True)\n",
    "\n",
    "# Run data recording thread\n",
    "thread = threading.Thread(target = record)\n",
    "thread.start()"
   ]
  },
  {
   "cell_type": "code",
   "execution_count": 2,
   "id": "db16ab50-61bc-453f-8b69-7e3a697fcd27",
   "metadata": {},
   "outputs": [
    {
     "data": {
      "image/png": "[encoded data removed]",
      "text/plain": [
       "<Figure size 640x480 with 1 Axes>"
      ]
     },
     "metadata": {},
     "output_type": "display_data"
    }
   ],
   "source": [
    "import pandas as pd\n",
    "\n",
    "for n in ['sensor0 1s 1s 9N 2mms 0 0']:\n",
    "    df = pd.read_csv(f'{n}.dmm.csv', header=[0], skiprows=[1], index_col=[0])\n",
    "    df[df.Resistance < 1e30].plot.scatter(x='Time', y='Resistance', s=0.1)"
   ]
  },
  {
   "cell_type": "code",
   "execution_count": null,
   "id": "bc974da6-2ff4-4fbf-bb1c-ac5c6ebad962",
   "metadata": {},
   "outputs": [],
   "source": []
  }
 ],
 "metadata": {
  "kernelspec": {
   "display_name": "Python 3 (ipykernel)",
   "language": "python",
   "name": "python3"
  },
  "language_info": {
   "codemirror_mode": {
    "name": "ipython",
    "version": 3
   },
   "file_extension": ".py",
   "mimetype": "text/x-python",
   "name": "python",
   "nbconvert_exporter": "python",
   "pygments_lexer": "ipython3",
   "version": "3.10.12"
  }
 },
 "nbformat": 4,
 "nbformat_minor": 5
}
